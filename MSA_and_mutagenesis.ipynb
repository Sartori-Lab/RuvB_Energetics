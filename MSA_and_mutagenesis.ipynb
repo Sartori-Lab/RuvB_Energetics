{
 "cells": [
  {
   "cell_type": "markdown",
   "id": "5d60822b",
   "metadata": {},
   "source": [
    "# Loading the alignment file"
   ]
  },
  {
   "cell_type": "code",
   "execution_count": 1,
   "id": "183f3628",
   "metadata": {},
   "outputs": [],
   "source": [
    "file = open(\"Alignments/gap_open_5_extra_scores.txt\", \"r\")\n",
    "lines = file.read().split(\"\\n\")\n",
    "alignment = {}"
   ]
  },
  {
   "cell_type": "markdown",
   "id": "6f797be7",
   "metadata": {},
   "source": [
    "# Saving the names of the entries in the alignment\n",
    "\n",
    "14 first characters"
   ]
  },
  {
   "cell_type": "code",
   "execution_count": 2,
   "id": "4a559441",
   "metadata": {},
   "outputs": [],
   "source": [
    "for line in lines:\n",
    "    if line != '':\n",
    "        alignment[line[:14]] = \"\""
   ]
  },
  {
   "cell_type": "markdown",
   "id": "76d1152c",
   "metadata": {},
   "source": [
    "# Saving in the dictionary the alignment letters and conservation score\n",
    "\n",
    "from 14th character to tab break"
   ]
  },
  {
   "cell_type": "code",
   "execution_count": 3,
   "id": "fc8d7ad7",
   "metadata": {},
   "outputs": [],
   "source": [
    "for line in lines:\n",
    "    if line != '':\n",
    "        sequences = line[14:].split(\"\\t\")[0]\n",
    "        alignment[line[:14]] = alignment[line[:14]] + sequences"
   ]
  },
  {
   "cell_type": "markdown",
   "id": "2d15c435",
   "metadata": {},
   "source": [
    "# Checking if the sequences are correct"
   ]
  },
  {
   "cell_type": "code",
   "execution_count": 4,
   "id": "6d9b98c3",
   "metadata": {
    "scrolled": false
   },
   "outputs": [
    {
     "name": "stdout",
     "output_type": "stream",
     "text": [
      "CLUSTAL O(1.2. \n",
      " 4) multiple sequence alignment \n",
      "\n",
      "Mge            \n",
      " -------------------------------------MKLQIKPPNTFDEFVGKQEIISQIQLSIKASKLNKTQLDHILLYGPPGVGKTTLARLIANELKTKLQIIQGGHLQKPSDFLNAIS-LIKKGDVLFIDEIHAVAPNVMELMYPVMDVFKIQVLIGKDFNSKIVEMKVNPFTLIGATTQLGKIINPLEDRFGVILNINYYSNAEIEKMVSIYGKQMKLELNSNEISAITEHSKQTPRIAIRIVRRIFEQKIVNK--KIDLEGLFKNLMIY---KNGLQSIDVQYLEVLNRQN--EPQGIKSISSMLGIDRHTIENKIEPFLLRENMIQKTKKGRIITNSGREYLVNF-------------------- \n",
      "\n",
      "Mpn            \n",
      " -------------------------------------MKLQIKPPNNFAEFVGKQEIINQIQLSIKASRINKAQLDHILLYGPPGVGKTTLARLIASEMNTKLQIIQGGHLQRPSDFLNAVS-LIKKGDVLFVDEIHAVAPSVMELMFPVMDDFRVQVLIGKDFNSKMVEMKVNPFTWIGATTQFGKIINPLEDRFGMILNIDYYSNQEIERIVSIYGEQMELELKPEEITQITQHSKQTPRIAIRIVKRLFEQKIVNK--KIDLAALFKSLMIY---KNGLQSIDVQYLKALNGQY--EPQGIKSICSMLGIDKSTVENKIEPFLLRENMIQKTKKGRIITRTGRNYLTSC-------------------- \n",
      "\n",
      "Ctr            \n",
      " ------------------------MTHKISVLHQDKKFDFSLR-PKKLTEFCGQKQLKERLDLFLRAAVQRNEVPGHCLFYGPPGLGKTSLAHIMANTIGKGLVIASGPQLLKPSDLIGLLT-GLQEGDIFFIDEIHRMGKAAEEYLYPAMEDFKVDITLDSGPGARSVRLDLAPFTLVGATTRAGMLSEPLRTRFAFTGRVDYYTDEDLVSILSRSSQLLAIEANQETLLEIARRARGTPRLANNLLRWVRDFAQMREGNCINSAVAEKALAMLLIDNLGLNEIDIKLLSVMIDFYQGGPVGMKTLAMAVGEDVRTLEDMYEPFLILKGLVQRTARGRVATPLAYEHLNRNPKDRWGEE------------ \n",
      "\n",
      "Cpn            \n",
      " ------------------------MTHQVAVLHQDKKFDVSLR-PKGLEEFYGQHHLKERLDLFLCAALQRGEVPGHCLFFGPPGLGKTSLAHIVAYTVGKGLVLASGPQLIKPSDLLGLLT-SLQEGDVFFIDEIHRMGKVAEEYLYSAMEDFKVDITIDSGPGARSVRVDLAPFTLVGATTRSGMLSEPLRTRFAFSARLSYYSDQDLKEILVRSSHLLGIEADSSALLEIAKRSRGTPRLANHLLRWVRDFAQIREGNCINGDVAEKALAMLLIDDWGLNEIDIKLLTTIIDYYQGGPVGIKTLSVAVGEDIKTLEDVYEPFLILKGFIKKTPRGRMVTQLAYDHLKRHAKNLLSLGEGQ--------- \n",
      "\n",
      "Tpa            \n",
      " -----------------MDHTASLSPVR-PEAQPTDDRERALR-PRLLKDFLGQEKTKRNLRLFIQAARDRNESLDHLFLIGPPGLGKTTLAHITACELGVECKVTGAPALDKPKDLAGILT-ALSERSVFFVDEIHRLKPAIEEMLYIAMEDYELDWVIGQGPSARTVRIPLPPFTLIGATTRAGMVSSPLISRFGIVERFEFYTPEELAAIVQRSARLLDITLDARAALALARCSRGTPRVANRLLRRIRDFAQVAGSAHISETIVRAGLAHLKIDELGLELHDIQLLRVMIEHFGGGPVGAETLAISLGESPETLEDYYEPYLIQIGLMQRTPRGRMATARAYAHLGLPVPEARTLTPHSPEQGTLL-- \n",
      "\n",
      "Bbu            \n",
      " -----------------MKDENSISFLSSNENYLYDKSENELR-PKVFEDFKGQVNVKETLSIFIRASKERDEALDHVFLSGPPGLGKTTLASIIAFEMNASIKITSAPAFDKPKDIIGILT-GLDEKSVLFIDEIHRLRPIIEEMLCIAMEDYELDWVIGQGANARTVRMPLPKFTLIGATTKPGKVTSPLYARFGITARFELYSEIELVEIIKRNSLILNIEIEEDAAFLLARSSRGTPRIANRLLRRIRDIAQVTGSLVITSDIVSIGLEMLRIDGEGLDEQDRNILRSLILKFNGGPVGVDTLAISVGETADSLEDFYEPYLIMKGFISRTHRGRKATEFAYLHLNLEMKEDGLNENQRVSF------ \n",
      "\n",
      "Rpr            \n",
      " ------------------------MTNILSPEKSEHDQELPIR-PSYLKEFVGQQQIKENLLVFIKAAKSRNEHLDHTLFYGPPGLGKTTLAKIISNEIGGNFKSTAGPAIIKAADLASILT-NLEKNDVLFIDEIHRLNTLVEEVLYSAMEDFELDIIIGEGSAARPVKITLPKFTLIGATTRFGLISNPLRDRFGIPMRLNFYNTEELKQVLNRASKLLDIDLTDSGSEEIAKRSRGTPRIALRLLRRIRDFAVVDGKSRIDKEICDFGLKRLTVDSIGLDSNDYRYLKFIADNYHGGPVGIETIAAALSEQRDELEETIEPYLIKIGLVKRTPRGRVITIAAFEHLKMPIPNKSQNQLNILNENE---- \n",
      "\n",
      "Hpy            \n",
      " ---------------------MKERIVNLETLDFEISQEVSLR-PSLWEDFIGQEKIKSNLQISICAAKKRQESLDHMLFFGPPGLGKTSISHIIAKEMETNIKITAAPMIEKSGDLAAILT-NLQAKDILFIDEIHRLSPAIEEVLYPAMEDFRLDIIIGSGPAAQTIKIDLPPFTLIGATTRAGMLSNPLRDRFGMSFRMQFYNPSELALIIKKAAVKLNQDIKQESADEIAKRSRGTPRIALRLLKRVRDFALVKNSSLMDLNITLHALNELGVNELGFDEADLAYLSLLA-NAQGKPVGLNTIAASMREDEGTIEDVIEPFLLANGYLERTAKGRIATPKTHELLKIPTLNPQTLF------------ \n",
      "\n",
      "Tma            \n",
      " -----------------------MSEFLTPERTVYDSGVQFLR-PKSLDEFIGQENVKKKLSLALEAAKMRGEVLDHVLLAGPPGLGKTTLAHIIASELQTNIHVTSGPVLVKQGDMAAILT-SLERGDVLFIDEIHRLNKAVEELLYSAIEDFQIDIMIGKGPSAKSIRIDIQPFTLVGATTRSGLLSSPLRSRFGIILELDFYTVKELKEIIKRAASLMDVEIEDAAAEMIAKRSRGTPRIAIRLTKRVRDMLTVVKADRINTDIVLKTMEVLNIDDEGLDEFDRKILKTIIEIYRGGPVGLNALAASLGVEADTLSEVYEPYLLQAGFLARTPRGRIVTEKAYKHLKYEVPENRLF------------- \n",
      "\n",
      "Mtu            \n",
      " ------------------MTERSDRDVSPALTVGEGDIDVSLR-PRSLREFIGQPRVREQLQLVIEGAKNRGGTPDHILLSGPPGLGKTSLAMIIAAELGSSLRVTSGPALERAGDLAAMLS-NLVEHDVLFIDEIHRIARPAEEMLYLAMEDFRVDVVVGKGPGATSIPLEVAPFTLVGATTRSGALTGPLRDRFGFTAHMDFYEPAELERVLARSAGILGIELGADAGAEIARRSRGTPRIANRLLRRVRDFAEVRADGVITRDVAKAALEVYDVDELGLDRLDRAVLSALTRSFGGGPVGVSTLAVAVGEEAATVEEVCEPFLVRAGMVARTPRGRVATALAWTHLGMTPPVGASQPGLFE-------- \n",
      "\n",
      "Mle            \n",
      " -----------------MSEDYLDRDVSPALTVGEADIDVSLR-PRSLREFIGQPRVREQLQLVIEGAKNRGATPDHILLSGPPGLGKTSLAMIIAAELGSSLRMTSGPALERAGDLAVMLS-NLVEHDVLFIDEIHRIARPAEEMLYLAMEDFRVDVIVGKGPGATSIPLEVAPFTLVGATTRSGALTGPLRDRFGFTAHMDFYEPTELEGVLARAAGILGIELGVEAGAEIARRSRGTPRIANRLLRRVRDFAEVRADGVITRDVAKAALAVYDVDELGLDRLDRAVLSALTRSFGGGPVGVSTLAVAVGEEATTVEEVCEPFLVRAGMVARTPRGRVATAQAWTYLCMTPPVGVTGLSQPGLFES---- \n",
      "\n",
      "Syn            \n",
      " MAIKRSGNNNLSPNVKSDLLSPEVIPQERSTSPELEQQEASLR-PQRLADYIGQRDLKEVLRIAIQAAQGRQEAIDHLLLYGPPGLGKTTLALILAEEMQVRCKITAAPALERPRDITGLLL-ALQPGDILFIDEIHRLNRLTEELLYPAMEDFRLDITMGKGQSAKVRSLKLAHFTLVGATTKVGSLTSPLRDRFGLIQRLRFYEVDELQQIILRTAGILSVSISPTGAEAIAMRARGTPRIANRLLKRVRDYAQVKQQPEIDPALASEALDLYQVDKRGLDWTDRLVLQTLIEQFQGGPTGLEAIAAATGEDAKTIEEVYEPYLLQIGYLARTSRGRIATTAAYEHLGLTPPTPLLPWKES--------- \n",
      "\n",
      "Taq            \n",
      " ------------------------------------MEDLALR-PKTLDEYIGQERLKQKLRVYLEAAKARKEPLEHLLLFGPPGLGKTTLAHVIAHELGVNLRVTSGPAIEKPGDLAAILANSLEEGDILFIDEIHRLSRQAEEHLYPAMEDFVMDIVIGQGPAARTIRLELPRFALIGATTRPGLITAPLLSRFGIVEHLEYYTPEELAQGVMRDARLLGVRITEEAALEIGRRSRGTMRVAKRLFRRVRDFAQVEGEEVITRERALEALAALGLDELGLEKRDREILEVLILRFGAGPVGLATLATALSEDPGTLEEVHEPYLIRQGLLKRTPRGRVATELAYRHLGYPPPVGPLLEP----------- \n",
      "\n",
      "Dra            \n",
      " -------------------------------MTAPENLDAALR-PKTLTEYVGQEKLKDKLGVYLQAARGRREALDHTLLFGPPGLGKTTLAHIIAYELGVNIRVTSGPAIEKPGDLAAILTNSLEEGDVLFIDEIHRLGRVAEEHLYPAMEDFKLDIVLGQGPAARTIELPLPRFTLVGATTRPGLITAPMRSRFGIIEHLEYYTAEEIATNLLRDARLLGFGLDEEAGLEIGARSRGTMRIAKRLLRRVRDYADVAGETTIGLERAQSALDKLGLDSAGLDDRDKKYLETLIHRFAGGPVGVDTLATAISEDALTLEDVYEPYLIQLGFIKRTPRGRVATAHAYDHLGLPPGGIDDGNGIFLN------- \n",
      "\n",
      "Pae            \n",
      " ------------------MIEPDRLISAVSGRERDEQLDRAIR-PLKLADYIGQPSVREQMELFIHAARGRQEALDHTLIFGPPGLGKTTLANIIAQEMGVSIKSTSGPVLERPGDLAALLT-NLEAGDVLFVDEIHRLSPIVEEVLYPAMEDFQLDIMIGEGPAARSIKLDLPPFTLVGATTRAGMLTNPLRDRFGIVQRLEFYNVEDLATIVSRSAGILGLEIEPQGAAEIAKRARGTPRIANRLLRRVRDFAEVRGQGDITRVIADKALNLLDVDERGFDHLDRRLLLTMIDKFDGGPVGIDNLAAALSEERHTIEDVLEPYLIQQGYIMRTPRGRVVTRHAYLHFGLNIPKRLGPGVTTDLFTSEDGN \n",
      "\n",
      "Eco            \n",
      " ------------------MIEADRLISAGTT-LPEDVADRAIR-PKLLEEYVGQPQVRSQMEIFIKAAKLRGDALDHLLIFGPPGLGKTTLANIVANEMGVNLRTTSGPVLEKAGDLAAMLT-NLEPHDVLFIDEIHRLSPVVEEVLYPAMEDYQLDIMIGEGPAARSIKIDLPPFTLIGATTRAGSLTSPLRDRFGIVQRLEFYQVPDLQYIVSRSARFMGLEMSDDGALEVARRARGTPRIANRLLRRVRDFAEVKHDGTISADIAAQALDMLNVDAEGFDYMDRKLLLAVIDKFFGGPVGLDNLAAAIGEERETIEDVLEPYLIQQGFLQRTPRGRMATTRAWNHFGITPPEMP--------------- \n",
      "\n",
      "Hin            \n",
      " ------------------MIEADRIISGQAK-VDEDVIDRAIR-PKLLADYVGQPQVREQMDIFIKAAKLRQDALDHLLIFGPPGLGKTTLANIVANEMGVNIRTTSGPVLEKAGDLAAMLT-NLEPHDVLFIDEIHRLSPAIEEVLYPAMEDYQLDIMIGEGPAARSIKLDLPPFTLVGATTRAGSLTSPLRDRFGIVQRLEFYSVEDLTSIVARSAGCLNLELEQQAAFEVARRSRGTPRIANRLLRRVRDYADVRNGGIISINVAKQALSMLDVDDAGFDYLDRKLLSAVIERFDGGPVGLDNLAAAIGEERDTIEDVLEPYLIQQGFLQRTPRGRIATSQTYRHFGLQKLSD---------------- \n",
      "\n",
      "Bsu            \n",
      " ---------------------MDERLVSSEADNHESVIEQSLR-PQNLAQYIGQHKVKENLRVFIDAAKMRQETLDHVLLYGPPGLGKTTLASIVANEMGVELRTTSGPAIERPGDLAAILT-ALEPGDVLFIDEIHRLHRSIEEVLYPAMEDFCLDIVIGKGPSARSVRLDLPPFTLVGATTRVGLLTAPLRDRFGVMSRLEYYTQEELADIVTRTADVFEVEIDKPSALEIARRSRGTPRVANRLLRRVRDFAQVLGDSRITEDISQNALERLQVDRLGLDHIDHKLLMGMIEKFNGGPVGLDTISATIGEESHTIEDVYEPYLLQIGFIQRTPRGRIVTPAVYHHFQMEAPRYD--------------- \n",
      "\n",
      "jiri2022       \n",
      " ----------------------------------------TLR-PQYFKEYIGQDKVKDQLKIFIEAAKLRDEALDHTLLFGPPGLGKTTMAFVIANEMGVNLKQTSGPAIEKAGDLVAILN-DLEPGDILFIDEIHRMPMAVEEVLYSAMEDYYIDIMIGAGETSRSVHLDLPPFTLVGATTRAGMLSNPLRARFGINGHMEYYELPDLTEIVERTSEIFEMTITPEAALELARRSRGTPRIANRLLKRVRDYAQIMGDGVIDDKIADQALTMLDVDHEGLDYVDQKILRTMIEMYGGGPVGLGTLSVNIAEERETVEDMYEPYLIQKGFIMRTRTGRVATAKAYEHMGYDYTRDN--------------- \n",
      "\n",
      "               \n",
      "                                          :: *    :: *:      : : : .:  .     * :: ****:***::: : :  :        .  : :  *:   :   :   .::*:**** :     * :  .:: : ::  :. .  :    : :  *: :****: * :  *:  **..  ..  *   ::   :   .  :           :   :: * *:* .: : : :   :     :        :        *::  *   *  :       * *   :.         :.:  **:*:  . : :*  **  *      :                        \n",
      "\n"
     ]
    }
   ],
   "source": [
    "entries = []\n",
    "for sp in alignment:\n",
    "    entries.append(sp)\n",
    "    print(sp, \"\\n\", alignment[sp], \"\\n\")"
   ]
  },
  {
   "cell_type": "markdown",
   "id": "01a63d0b",
   "metadata": {},
   "source": [
    "# Printing scores for RuvB sequence with solved structure"
   ]
  },
  {
   "cell_type": "code",
   "execution_count": 6,
   "id": "2f306749",
   "metadata": {},
   "outputs": [
    {
     "name": "stdout",
     "output_type": "stream",
     "text": [
      "TLRPQYFKEYIGQDKVKDQLKIFIEAAKLRDEALDHTLLFGPPGLGKTTMAFVIANEMGVNLKQTSGPAIEKAGDLVAILNDLEPGDILFIDEIHRMPMA\n",
      " ::*    :: *:      : : : .:  .     * :: ****:***::: : :  :        .  : :  *:   :  :   .::*:**** :   \n",
      "\n",
      "VEEVLYSAMEDYYIDIMIGAGETSRSVHLDLPPFTLVGATTRAGMLSNPLRARFGINGHMEYYELPDLTEIVERTSEIFEMTITPEAALELARRSRGTPR\n",
      "  * :  .:: : ::  :. .  :    : :  *: :****: * :  *:  **..  ..  *   ::   :   .  :           :   :: * *\n",
      "\n",
      "IANRLLKRVRDYAQIMGDGVIDDKIADQALTMLDVDHEGLDYVDQKILRTMIEMYGGGPVGLGTLSVNIAEERETVEDMYEPYLIQKGFIMRTRTGRVAT\n",
      ":* .: : : :   :     :        :        *::  *   *  :       * *   :.         :.:  **:*:  . : :*  **  *\n",
      "\n",
      "AKAYEHMGYDYTRDN\n",
      "      :        \n",
      "\n"
     ]
    }
   ],
   "source": [
    "seq = \"\"\n",
    "score = \"\"\n",
    "\n",
    "for i in range(len(alignment[entries[-1]])):\n",
    "    res = alignment[entries[-2]][i]\n",
    "    \n",
    "    if res != \"-\":\n",
    "        seq = seq + res\n",
    "        score = score + alignment[entries[-1]][i]\n",
    "        \n",
    "print(seq[:100] + \"\\n\" + score[:100] + \"\\n\")\n",
    "print(seq[100:200] + \"\\n\" + score[100:200] + \"\\n\")\n",
    "print(seq[200:300] + \"\\n\" + score[200:300] + \"\\n\")\n",
    "print(seq[300:400] + \"\\n\" + score[300:400] + \"\\n\")"
   ]
  },
  {
   "cell_type": "code",
   "execution_count": 7,
   "id": "f15bd5c0",
   "metadata": {},
   "outputs": [
    {
     "data": {
      "text/plain": [
       "' ::*    :: *:      : : : .:  .     * :: ****:***::: : :  :        .  : :  *:   :  :   .::*:**** :     * :  .:: : ::  :. .  :    : :  *: :****: * :  *:  **..  ..  *   ::   :   .  :           :   :: * *:* .: : : :   :     :        :        *::  *   *  :       * *   :.         :.:  **:*:  . : :*  **  *      :        '"
      ]
     },
     "execution_count": 7,
     "metadata": {},
     "output_type": "execute_result"
    }
   ],
   "source": [
    "score"
   ]
  },
  {
   "cell_type": "markdown",
   "id": "0651e45b",
   "metadata": {},
   "source": [
    "# Printing alignment of E. coli RuvB and solved structure for mutagenesis analysis"
   ]
  },
  {
   "cell_type": "code",
   "execution_count": 8,
   "id": "c3c0faf1",
   "metadata": {},
   "outputs": [
    {
     "name": "stdout",
     "output_type": "stream",
     "text": [
      "------------------------------------------B----------B-----B----------A--------------B-AA-----------\n",
      "------------------MIEPDRLISAVSGRERDEQLDRAIR-PLKLADYIGQPSVREQMELFIHAARGRQEALDHTLIFGPPGLGKTTLANIIAQEMG\n",
      "----------------------------------------TLR-PQYFKEYIGQDKVKDQLKIFIEAAKLRDEALDHTLLFGPPGLGKTTMAFVIANEMG\n",
      "\n",
      "----------DBB-----A--------------A--A-------A-----BCB-------A-C---B-C-C----B---BAAB----A--DA--AB-B-A\n",
      "VSIKSTSGPVLERPGDLAALLT-NLEAGDVLFVDEIHRLSPIVEEVLYPAMEDFQLDIMIGEGPAARSIKLDLPPFTLVGATTRAGMLTNPLRDRFGIVQ\n",
      "VNLKQTSGPAIEKAGDLVAILN-DLEPGDILFIDEIHRMPMAVEEVLYSAMEDYYIDIMIGAGETSRSVHLDLPPFTLVGATTRAGMLSNPLRARFGING\n",
      "\n",
      "--BAA---D----------------------------A-B-A---A--DA-A-A--B-----------------A--B-------D-DB-A-------A-\n",
      "RLEFYNVEDLATIVSRSAGILGLEIEPQGAAEIAKRARGTPRIANRLLRRVRDFAEVRGQGDITRVIADKALNLLDVDERGFDHLDRRLLLTMIDKFDGG\n",
      "HMEYYELPDLTEIVERTSEIFEMTITPEAALELARRSRGTPRIANRLLKRVRDYAQIMGDGVIDDKIADQALTMLDVDHEGLDYVDQKILRTMIEMYGGG\n",
      "\n",
      "A---------------D-B---A-A--------A--AAA---------------------------------\n",
      "PVGIDNLAAALSEERHTIEDVLEPYLIQQGYIMRTPRGRVVTRHAYLHFGLNIPKRLGPGVTTDLFTSEDGN\n",
      "PVGLGTLSVNIAEERETVEDMYEPYLIQKGFIMRTRTGRVATAKAYEHMGYDYTRDN---------------\n",
      "\n"
     ]
    }
   ],
   "source": [
    "ecoli = alignment[entries[15]]\n",
    "jiri = alignment[entries[-2]]\n",
    "\n",
    "groupA = [70, 87, 88, 118, 133, 136, 144, 160, 180, 181, 187, \n",
    "          191, 194, 199, 203, 204, 237, 241, 245, 249, 251,\n",
    "          253, 274, 290, 298, 300, 322, 324, 333, 336, 337, \n",
    "          338] #red\n",
    "groupB = [42, 53, 59, 85, 111, 112, 150, 152, 166, 175, 179, \n",
    "          182, 195, 197, 202, 239, 256, 277, 288, 318] #green\n",
    "groupC = [151, 162, 168, 170] #squares\n",
    "groupD = [110, 190, 208, 248, 285, 287, 316] #black\n",
    "groupAll = groupA + groupB + groupC + groupD\n",
    "\n",
    "group = \"\"\n",
    "for i in range(len(ecoli)):\n",
    "    if i in groupD:\n",
    "        group = group + \"D\"\n",
    "        \n",
    "    if i in groupC:\n",
    "        group = group + \"C\"\n",
    "    \n",
    "    if i in groupB:\n",
    "        group = group + \"B\"\n",
    "    \n",
    "    if i in groupA:\n",
    "        group = group + \"A\"\n",
    "    \n",
    "    if i not in groupAll:\n",
    "        group = group + \"-\"\n",
    "        \n",
    "\n",
    "print(group[:100] + \"\\n\" + ecoli[:100] + \"\\n\" + jiri[:100] + \"\\n\")\n",
    "print(group[100:200] + \"\\n\" + ecoli[100:200] + \"\\n\" + jiri[100:200] + \"\\n\")\n",
    "print(group[200:300] + \"\\n\" + ecoli[200:300] + \"\\n\" + jiri[200:300] + \"\\n\")\n",
    "print(group[300:400] + \"\\n\" + ecoli[300:400] + \"\\n\" + jiri[300:400] + \"\\n\")"
   ]
  },
  {
   "cell_type": "code",
   "execution_count": 9,
   "id": "ccd50ddf",
   "metadata": {},
   "outputs": [
    {
     "name": "stdout",
     "output_type": "stream",
     "text": [
      "Group A: 0.84375\n",
      "Group B: 0.85\n",
      "Group C: 0.75\n",
      "Group D: 0.5714285714285714\n"
     ]
    }
   ],
   "source": [
    "count = 0\n",
    "for i in groupA:\n",
    "    count += ecoli[i] == jiri[i]\n",
    "print(\"Group A:\", count / len(groupA))\n",
    "\n",
    "count = 0\n",
    "for i in groupB:\n",
    "    count += ecoli[i] == jiri[i]\n",
    "print(\"Group B:\", count / len(groupB))\n",
    "\n",
    "count = 0\n",
    "for i in groupC:\n",
    "    count += ecoli[i] == jiri[i]\n",
    "print(\"Group C:\", count / len(groupC))\n",
    "\n",
    "count = 0\n",
    "for i in groupD:\n",
    "    count += ecoli[i] == jiri[i]\n",
    "print(\"Group D:\", count / len(groupD))"
   ]
  },
  {
   "cell_type": "code",
   "execution_count": 10,
   "id": "de5d4726",
   "metadata": {},
   "outputs": [
    {
     "name": "stdout",
     "output_type": "stream",
     "text": [
      "TLRPQYFKEYIGQDKVKDQLKIFIEAAKLRDEALDHTLLFGPPGLGKTTMAFVIANEMGVNLKQTSGPAIEKAGDLVAILNDLEPGDILFIDEIHRMPMA\n",
      "--B---------B-----B----------A--------------B-AA---------------------DBB-----A-------------A--A-----\n",
      "\n",
      "VEEVLYSAMEDYYIDIMIGAGETSRSVHLDLPPFTLVGATTRAGMLSNPLRARFGINGHMEYYELPDLTEIVERTSEIFEMTITPEAALELARRSRGTPR\n",
      "--A-----BCB-------A-C---B-C-C----B---BAAB----A--DA--AB-B-A--BAA---D----------------------------A-B-A\n",
      "\n",
      "IANRLLKRVRDYAQIMGDGVIDDKIADQALTMLDVDHEGLDYVDQKILRTMIEMYGGGPVGLGTLSVNIAEERETVEDMYEPYLIQKGFIMRTRTGRVAT\n",
      "---A--DA-A-A--B-----------------A--B-------D-DB-A-------A-A---------------D-B---A-A--------A--AAA---\n",
      "\n",
      "AKAYEHMGYDYTRDN\n",
      "---------------\n",
      "\n"
     ]
    }
   ],
   "source": [
    "seq = \"\"\n",
    "mut = \"\"\n",
    "\n",
    "for i in range(len(alignment[entries[-1]])):\n",
    "    res = alignment[entries[-2]][i]\n",
    "    \n",
    "    if res != \"-\":\n",
    "        seq = seq + res\n",
    "        mut = mut + group[i]\n",
    "\n",
    "print(seq[:100] + \"\\n\" + mut[:100] + \"\\n\")\n",
    "print(seq[100:200] + \"\\n\" + mut[100:200] + \"\\n\")\n",
    "print(seq[200:300] + \"\\n\" + mut[200:300] + \"\\n\")\n",
    "print(seq[300:400] + \"\\n\" + mut[300:400] + \"\\n\")"
   ]
  },
  {
   "cell_type": "code",
   "execution_count": 11,
   "id": "ba96fec3",
   "metadata": {},
   "outputs": [
    {
     "data": {
      "text/plain": [
       "'--B---------B-----B----------A--------------B-AA---------------------DBB-----A-------------A--A-------A-----BCB-------A-C---B-C-C----B---BAAB----A--DA--AB-B-A--BAA---D----------------------------A-B-A---A--DA-A-A--B-----------------A--B-------D-DB-A-------A-A---------------D-B---A-A--------A--AAA------------------'"
      ]
     },
     "execution_count": 11,
     "metadata": {},
     "output_type": "execute_result"
    }
   ],
   "source": [
    "mut"
   ]
  }
 ],
 "metadata": {
  "kernelspec": {
   "display_name": "Python 3 (ipykernel)",
   "language": "python",
   "name": "python3"
  },
  "language_info": {
   "codemirror_mode": {
    "name": "ipython",
    "version": 3
   },
   "file_extension": ".py",
   "mimetype": "text/x-python",
   "name": "python",
   "nbconvert_exporter": "python",
   "pygments_lexer": "ipython3",
   "version": "3.8.8"
  }
 },
 "nbformat": 4,
 "nbformat_minor": 5
}
